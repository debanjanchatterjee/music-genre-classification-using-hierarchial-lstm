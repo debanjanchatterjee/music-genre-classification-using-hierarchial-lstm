{
 "cells": [
  {
   "cell_type": "code",
   "execution_count": 1,
   "metadata": {},
   "outputs": [],
   "source": [
    "from scipy.io.wavfile import read as read_wav\n",
    "from IPython.display import Audio\n",
    "import matplotlib.pyplot as plt\n",
    "import tensorflow as tf\n",
    "import sklearn as skl\n",
    "import librosa as lr\n",
    "import numpy as np\n",
    "import logging\n",
    "import random\n",
    "import scipy\n",
    "import os"
   ]
  },
  {
   "cell_type": "code",
   "execution_count": 2,
   "metadata": {},
   "outputs": [],
   "source": [
    "np.random.seed(5)\n",
    "logging.warnings.filterwarnings('ignore')"
   ]
  },
  {
   "cell_type": "code",
   "execution_count": 3,
   "metadata": {},
   "outputs": [],
   "source": [
    "dataset_root = '.'"
   ]
  },
  {
   "cell_type": "code",
   "execution_count": 4,
   "metadata": {},
   "outputs": [],
   "source": [
    "genres = {\n",
    "    'disco',\n",
    "    'country',\n",
    "    'jazz',\n",
    "    'classical',\n",
    "    'blues',\n",
    "    'hiphop',\n",
    "    'metal',\n",
    "    'rock',\n",
    "    'pop',\n",
    "    'reggae'\n",
    "}"
   ]
  },
  {
   "cell_type": "markdown",
   "metadata": {},
   "source": [
    "### Hyper Parameters:"
   ]
  },
  {
   "cell_type": "code",
   "execution_count": 5,
   "metadata": {},
   "outputs": [],
   "source": [
    "hparams = {\n",
    "    'samplerate': 22050,\n",
    "    'seq_length': 256,\n",
    "    'hop_length': 512,\n",
    "    'fft_window': 2048\n",
    "}"
   ]
  },
  {
   "cell_type": "markdown",
   "metadata": {},
   "source": [
    "### Extract Features:"
   ]
  },
  {
   "cell_type": "code",
   "execution_count": 6,
   "metadata": {},
   "outputs": [],
   "source": [
    "def extract_features(filepath, hparams):\n",
    "    \n",
    "    audio_data_array = lr.load(filepath, sr=hparams['samplerate'], mono=True)\n",
    "    \n",
    "    features = [\n",
    "        \n",
    "        # MFCC Features:\n",
    "        lr.feature.mfcc(\n",
    "            y          = audio_data_array[0],\n",
    "            sr         = hparams['samplerate'],\n",
    "            hop_length = hparams['hop_length'],\n",
    "            n_fft      = hparams['fft_window']\n",
    "        ),\n",
    "\n",
    "        # Chroma STFT:\n",
    "        lr.feature.chroma_stft(\n",
    "            y          = audio_data_array[0],\n",
    "            sr         = hparams['samplerate'],\n",
    "            hop_length = hparams['hop_length'],\n",
    "            n_fft      = hparams['fft_window']\n",
    "        ),\n",
    "        \n",
    "        # Spectral Centroid:\n",
    "        lr.feature.spectral_centroid(\n",
    "            y          = audio_data_array[0],\n",
    "            sr         = hparams['samplerate'],\n",
    "            hop_length = hparams['hop_length'],\n",
    "            n_fft      = hparams['fft_window']\n",
    "        ),\n",
    "        \n",
    "        # Spectral Contrast:\n",
    "        lr.feature.spectral_contrast(\n",
    "            y          = audio_data_array[0],\n",
    "            sr         = hparams['samplerate'],\n",
    "            hop_length = hparams['hop_length'],\n",
    "            n_fft      = hparams['fft_window']\n",
    "        )\n",
    "    ]\n",
    "    \n",
    "    return np.vstack(features)"
   ]
  },
  {
   "cell_type": "markdown",
   "metadata": {},
   "source": [
    "### Preprocessing:"
   ]
  },
  {
   "cell_type": "code",
   "execution_count": 7,
   "metadata": {},
   "outputs": [],
   "source": [
    "processed = []"
   ]
  },
  {
   "cell_type": "code",
   "execution_count": 8,
   "metadata": {},
   "outputs": [
    {
     "name": "stdout",
     "output_type": "stream",
     "text": [
      "================================================\n",
      "PREPARING: Genre: jazz\n",
      "COMPLETE: Genre: jazz\n",
      "================================================\n",
      "PREPARING: Genre: hiphop\n",
      "COMPLETE: Genre: hiphop\n",
      "================================================\n",
      "PREPARING: Genre: metal\n",
      "COMPLETE: Genre: metal\n",
      "================================================\n",
      "PREPARING: Genre: country\n",
      "COMPLETE: Genre: country\n",
      "================================================\n",
      "PREPARING: Genre: disco\n",
      "COMPLETE: Genre: disco\n",
      "================================================\n",
      "PREPARING: Genre: pop\n",
      "COMPLETE: Genre: pop\n",
      "================================================\n",
      "PREPARING: Genre: reggae\n",
      "COMPLETE: Genre: reggae\n",
      "================================================\n",
      "PREPARING: Genre: rock\n",
      "COMPLETE: Genre: rock\n",
      "================================================\n",
      "PREPARING: Genre: blues\n",
      "COMPLETE: Genre: blues\n",
      "================================================\n",
      "PREPARING: Genre: classical\n",
      "COMPLETE: Genre: classical\n"
     ]
    }
   ],
   "source": [
    "preprocess = True\n",
    "\n",
    "if preprocess == True:\n",
    "    \n",
    "    counter = 0\n",
    "    \n",
    "    for genre in genres:\n",
    "        \n",
    "        print('================================================')\n",
    "        print('PREPARING: Genre: {}'.format(genre))\n",
    "        \n",
    "        m = hparams['seq_length']\n",
    "        filelist = os.listdir(dataset_root + '/dataset/' + genre)\n",
    "        \n",
    "        for file in filelist:\n",
    "            features = extract_features(dataset_root + '/dataset/' + genre + '/' + file, hparams)\n",
    "            \n",
    "            for i in range(5):\n",
    "                \n",
    "                json = {\n",
    "                    'index': (counter // 5) % 100,\n",
    "                    'features': np.moveaxis(features[:, (i * m): ((i+1) * m)], 0, 1),\n",
    "                    'ground_truth': genre\n",
    "                }\n",
    "                \n",
    "                processed += [json]\n",
    "                counter += 1\n",
    "        \n",
    "        print('COMPLETE: Genre: {}'.format(genre))\n",
    "                \n",
    "    if 'prepared' not in os.listdir('.'):\n",
    "        os.mkdir('prepared')\n",
    "    np.save('./prepared/processed.npy', processed)\n",
    "    \n",
    "else:\n",
    "    train_data_x = np.load('./prepared/processed.npy')"
   ]
  },
  {
   "cell_type": "code",
   "execution_count": null,
   "metadata": {},
   "outputs": [],
   "source": []
  }
 ],
 "metadata": {
  "kernelspec": {
   "display_name": "Python 3",
   "language": "python",
   "name": "python3"
  },
  "language_info": {
   "codemirror_mode": {
    "name": "ipython",
    "version": 3
   },
   "file_extension": ".py",
   "mimetype": "text/x-python",
   "name": "python",
   "nbconvert_exporter": "python",
   "pygments_lexer": "ipython3",
   "version": "3.8.5"
  }
 },
 "nbformat": 4,
 "nbformat_minor": 4
}
