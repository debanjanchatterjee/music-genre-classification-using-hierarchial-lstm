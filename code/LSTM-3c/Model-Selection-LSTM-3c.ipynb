{
 "cells": [
  {
   "cell_type": "code",
   "execution_count": 1,
   "metadata": {},
   "outputs": [],
   "source": [
    "from scipy.io.wavfile import read as read_wav\n",
    "from IPython.display import Audio\n",
    "import matplotlib.pyplot as plt\n",
    "import tensorflow as tf\n",
    "import sklearn as skl\n",
    "import librosa as lr\n",
    "import numpy as np\n",
    "import logging\n",
    "import random\n",
    "import scipy\n",
    "import os"
   ]
  },
  {
   "cell_type": "code",
   "execution_count": 2,
   "metadata": {},
   "outputs": [],
   "source": [
    "np.random.seed(5)\n",
    "logging.warnings.filterwarnings('ignore')"
   ]
  },
  {
   "cell_type": "code",
   "execution_count": 3,
   "metadata": {},
   "outputs": [],
   "source": [
    "dataset_root = '.'"
   ]
  },
  {
   "cell_type": "markdown",
   "metadata": {},
   "source": [
    "### Genre Dictionary:"
   ]
  },
  {
   "cell_type": "code",
   "execution_count": 4,
   "metadata": {},
   "outputs": [],
   "source": [
    "genres = {\n",
    "    'disco': 0,\n",
    "    'country': 1\n",
    "}"
   ]
  },
  {
   "cell_type": "markdown",
   "metadata": {},
   "source": [
    "### Hyper Parameters:"
   ]
  },
  {
   "cell_type": "code",
   "execution_count": 5,
   "metadata": {},
   "outputs": [],
   "source": [
    "hparams = {\n",
    "    'samplerate': 22050,\n",
    "    'seq_length': 256,\n",
    "    'hop_length': 512,\n",
    "    'fft_window': 2048,\n",
    "    'num_classes': len(genres)\n",
    "}"
   ]
  },
  {
   "cell_type": "markdown",
   "metadata": {},
   "source": [
    "### Extract Features:"
   ]
  },
  {
   "cell_type": "code",
   "execution_count": 6,
   "metadata": {},
   "outputs": [],
   "source": [
    "def extract_features(filepath, hparams):\n",
    "    \n",
    "    audio_data_array = lr.load(filepath, sr=hparams['samplerate'], mono=True)\n",
    "    \n",
    "    normalized = lr.util.normalize(audio_data_array[0])\n",
    "    \n",
    "    features = [\n",
    "        \n",
    "        # MFCC Features:\n",
    "        lr.feature.mfcc(\n",
    "            y          = normalized,\n",
    "            sr         = hparams['samplerate'],\n",
    "            hop_length = hparams['hop_length'],\n",
    "            n_fft      = hparams['fft_window']\n",
    "        ),\n",
    "\n",
    "        # Chroma STFT:\n",
    "        lr.feature.chroma_stft(\n",
    "            y          = normalized,\n",
    "            sr         = hparams['samplerate'],\n",
    "            hop_length = hparams['hop_length'],\n",
    "            n_fft      = hparams['fft_window']\n",
    "        ),\n",
    "        \n",
    "        # Spectral Centroid:\n",
    "        lr.feature.spectral_centroid(\n",
    "            y          = normalized,\n",
    "            sr         = hparams['samplerate'],\n",
    "            hop_length = hparams['hop_length'],\n",
    "            n_fft      = hparams['fft_window']\n",
    "        ),\n",
    "        \n",
    "        # Spectral Contrast:\n",
    "        lr.feature.spectral_contrast(\n",
    "            y          = normalized,\n",
    "            sr         = hparams['samplerate'],\n",
    "            hop_length = hparams['hop_length'],\n",
    "            n_fft      = hparams['fft_window']\n",
    "        )\n",
    "    ]\n",
    "    \n",
    "    return np.vstack(features)"
   ]
  },
  {
   "cell_type": "markdown",
   "metadata": {},
   "source": [
    "### Disco Class:"
   ]
  },
  {
   "cell_type": "code",
   "execution_count": 7,
   "metadata": {},
   "outputs": [],
   "source": [
    "class_1 = [\n",
    "    'disco'\n",
    "]"
   ]
  },
  {
   "cell_type": "markdown",
   "metadata": {},
   "source": [
    "### Country Class:"
   ]
  },
  {
   "cell_type": "code",
   "execution_count": 8,
   "metadata": {},
   "outputs": [],
   "source": [
    "class_2 = [\n",
    "    'country'\n",
    "]"
   ]
  },
  {
   "cell_type": "markdown",
   "metadata": {},
   "source": [
    "### Allocating Arrays to Store Dataset:"
   ]
  },
  {
   "cell_type": "code",
   "execution_count": 9,
   "metadata": {},
   "outputs": [],
   "source": [
    "train_data_x = np.zeros(shape=(5 * 140, 40, hparams['seq_length']))\n",
    "val_data_x = np.zeros(shape=(5 * 40, 40, hparams['seq_length']))\n",
    "test_data_x = np.zeros(shape=(5 * 20, 40, hparams['seq_length']))\n",
    "\n",
    "train_data_y = np.zeros(shape=(5 * 140, 2))\n",
    "val_data_y = np.zeros(shape=(5 * 40, 2))\n",
    "test_data_y = np.zeros(shape=(5 * 20, 2))"
   ]
  },
  {
   "cell_type": "markdown",
   "metadata": {},
   "source": [
    "### Train Dataset:"
   ]
  },
  {
   "cell_type": "code",
   "execution_count": 10,
   "metadata": {},
   "outputs": [
    {
     "name": "stdout",
     "output_type": "stream",
     "text": [
      "Genre: disco Processed.\n",
      "Genre: country Processed.\n"
     ]
    }
   ],
   "source": [
    "preprocess = False\n",
    "\n",
    "if preprocess == True:\n",
    "\n",
    "    train_data_counter = 0\n",
    "    val_data_counter = 0\n",
    "    test_data_counter = 0\n",
    "\n",
    "    for genre in class_1:\n",
    "\n",
    "        print('Genre:', genre, 'Processed.')\n",
    "        \n",
    "        m = hparams['seq_length']\n",
    "\n",
    "        filelist = os.listdir('./dataset/' + genre)\n",
    "\n",
    "        for file in filelist[0:70]:\n",
    "            features = extract_features(dataset_root + '/dataset/' + genre + '/' + file, hparams)\n",
    "            for i in range(5):\n",
    "                train_data_x[train_data_counter, :] = features[:, (i * m): ((i+1) * m)]\n",
    "                train_data_y[train_data_counter] = tf.keras.utils.to_categorical(0, num_classes=2)\n",
    "                train_data_counter += 1\n",
    "        \n",
    "        for file in filelist[70:90]:\n",
    "            features = extract_features(dataset_root + '/dataset/' + genre + '/' + file, hparams)\n",
    "            for i in range(5):\n",
    "                val_data_x[val_data_counter, :] = features[:, (i * m): ((i+1) * m)]\n",
    "                val_data_y[val_data_counter] = tf.keras.utils.to_categorical(0, num_classes=2)\n",
    "                val_data_counter += 1\n",
    "                \n",
    "        for file in filelist[90:100]:\n",
    "            features = extract_features(dataset_root + '/dataset/' + genre + '/' + file, hparams)\n",
    "            for i in range(5):\n",
    "                test_data_x[test_data_counter, :] = features[:, (i * m): ((i+1) * m)]\n",
    "                test_data_y[test_data_counter] = tf.keras.utils.to_categorical(0, num_classes=2)\n",
    "                test_data_counter += 1\n",
    "        \n",
    "\n",
    "    for genre in class_2:\n",
    "\n",
    "        print('Genre:', genre, 'Processed.')\n",
    "        \n",
    "        m = hparams['seq_length']\n",
    "\n",
    "        filelist = os.listdir('./dataset/' + genre)\n",
    "\n",
    "        for file in filelist[0:70]:\n",
    "            features = extract_features(dataset_root + '/dataset/' + genre + '/' + file, hparams)\n",
    "            for i in range(5):\n",
    "                train_data_x[train_data_counter, :] = features[:, (i * m): ((i+1) * m)]\n",
    "                train_data_y[train_data_counter] = tf.keras.utils.to_categorical(1, num_classes=2)\n",
    "                train_data_counter += 1\n",
    "        \n",
    "        for file in filelist[70:90]:\n",
    "            features = extract_features(dataset_root + '/dataset/' + genre + '/' + file, hparams)\n",
    "            for i in range(5):\n",
    "                val_data_x[val_data_counter, :] = features[:, (i * m): ((i+1) * m)]\n",
    "                val_data_y[val_data_counter] = tf.keras.utils.to_categorical(1, num_classes=2)\n",
    "                val_data_counter += 1\n",
    "                \n",
    "        for file in filelist[90:100]:\n",
    "            features = extract_features(dataset_root + '/dataset/' + genre + '/' + file, hparams)\n",
    "            for i in range(5):\n",
    "                test_data_x[test_data_counter, :] = features[:, (i * m): ((i+1) * m)]\n",
    "                test_data_y[test_data_counter] = tf.keras.utils.to_categorical(1, num_classes=2)\n",
    "                test_data_counter += 1\n",
    "            \n",
    "    if 'prepared' not in os.listdir('.'):\n",
    "        os.mkdir('prepared')\n",
    "    np.save('./prepared/train_data_x.npy', train_data_x, allow_pickle=False)\n",
    "    np.save('./prepared/train_data_y.npy', train_data_y, allow_pickle=False)\n",
    "    np.save('./prepared/val_data_x.npy', val_data_x, allow_pickle=False)\n",
    "    np.save('./prepared/val_data_y.npy', val_data_y, allow_pickle=False)\n",
    "    np.save('./prepared/test_data_x.npy', test_data_x, allow_pickle=False)\n",
    "    np.save('./prepared/test_data_y.npy', test_data_y, allow_pickle=False)\n",
    "else:\n",
    "    train_data_x = np.load('./prepared/train_data_x.npy', allow_pickle=False)\n",
    "    train_data_y = np.load('./prepared/train_data_y.npy', allow_pickle=False)\n",
    "    val_data_x = np.load('./prepared/val_data_x.npy', allow_pickle=False)\n",
    "    val_data_y = np.load('./prepared/val_data_y.npy', allow_pickle=False)\n",
    "    test_data_x = np.load('./prepared/test_data_x.npy', allow_pickle=False)\n",
    "    test_data_y = np.load('./prepared/test_data_y.npy', allow_pickle=False)"
   ]
  },
  {
   "cell_type": "code",
   "execution_count": 11,
   "metadata": {},
   "outputs": [],
   "source": [
    "train_data_x  = np.moveaxis(train_data_x, 1, 2)\n",
    "val_data_x    = np.moveaxis(val_data_x,   1, 2)\n",
    "test_data_x   = np.moveaxis(test_data_x,  1, 2)"
   ]
  },
  {
   "cell_type": "markdown",
   "metadata": {},
   "source": [
    "### Model Creation and Training:"
   ]
  },
  {
   "cell_type": "code",
   "execution_count": 12,
   "metadata": {},
   "outputs": [],
   "source": [
    "class GenreClassifierModel(tf.keras.Model):\n",
    "    \n",
    "    def __init__(self, l1, l2):\n",
    "        \n",
    "        super().__init__()\n",
    "        \n",
    "        self.L1 = tf.keras.layers.LSTM(l1, return_sequences=True)\n",
    "        self.L2 = tf.keras.layers.LSTM(l2, return_sequences=False)\n",
    "        self.L3 = tf.keras.layers.Dense(units=hparams['num_classes'], activation=\"softmax\")\n",
    "        \n",
    "    def call(self, inputs):\n",
    "        self.x = self.L1(inputs)\n",
    "        self.x = self.L2(self.x)\n",
    "        self.x = self.L3(self.x)\n",
    "        return self.x"
   ]
  },
  {
   "cell_type": "markdown",
   "metadata": {},
   "source": [
    "### Training Model:"
   ]
  },
  {
   "cell_type": "code",
   "execution_count": 13,
   "metadata": {},
   "outputs": [],
   "source": [
    "def create_model(config):\n",
    "    \n",
    "    l1 = random.choice(config['L1'])\n",
    "    l2 = random.choice(config['L2'])\n",
    "    \n",
    "    # Model Definition:\n",
    "    model = GenreClassifierModel(l1, l2)\n",
    "    \n",
    "    # Model Compilation:\n",
    "    model.compile(optimizer='rmsprop', loss='categorical_crossentropy', metrics=['accuracy'])\n",
    "    \n",
    "    return {'L1': l1, 'L2': l2}, model"
   ]
  },
  {
   "cell_type": "code",
   "execution_count": 14,
   "metadata": {},
   "outputs": [],
   "source": [
    "def grid_search(config, n_trials):\n",
    "    \n",
    "    train_stats = []\n",
    "    \n",
    "    global train_data_x, val_data_x, test_data_x\n",
    "    global train_data_y, val_data_y, test_data_y\n",
    "    \n",
    "    for i in range(n_trials):\n",
    "        \n",
    "        with open('train_info.txt', 'a+') as file:\n",
    "            model_config, model = create_model(config)\n",
    "\n",
    "            # Train Model:\n",
    "            hist = model.fit(train_data_x, train_data_y, epochs=50, verbose=0, shuffle=True)\n",
    "\n",
    "            # Evaluate Model:\n",
    "            val_loss, val_acc = model.evaluate(val_data_x, val_data_y, verbose=0)\n",
    "\n",
    "            print('L1: {}, L2: {}, Validation Loss: {}, Validation Accuracy: {}'.format(\n",
    "                str(model_config['L1']).rjust(3), \n",
    "                str(model_config['L2']).rjust(3), \n",
    "                str(round(val_loss, 4)).rjust(7), \n",
    "                str(round(val_acc, 4)).rjust(7)\n",
    "            ), file=file)"
   ]
  },
  {
   "cell_type": "code",
   "execution_count": null,
   "metadata": {},
   "outputs": [],
   "source": [
    "train_hist = grid_search({\n",
    "    'L1': [i for i in range(16, 128, 4)],\n",
    "    'L2': [i for i in range(16, 128, 4)]\n",
    "}, 100)"
   ]
  }
 ],
 "metadata": {
  "kernelspec": {
   "display_name": "Python 3",
   "language": "python",
   "name": "python3"
  },
  "language_info": {
   "codemirror_mode": {
    "name": "ipython",
    "version": 3
   },
   "file_extension": ".py",
   "mimetype": "text/x-python",
   "name": "python",
   "nbconvert_exporter": "python",
   "pygments_lexer": "ipython3",
   "version": "3.8.5"
  }
 },
 "nbformat": 4,
 "nbformat_minor": 4
}
