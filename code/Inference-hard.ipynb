{
 "cells": [
  {
   "cell_type": "code",
   "execution_count": 1,
   "metadata": {},
   "outputs": [],
   "source": [
    "from scipy.io.wavfile import read as read_wav\n",
    "from IPython.display import Audio\n",
    "import matplotlib.pyplot as plt\n",
    "from collections import Counter\n",
    "import tensorflow as tf\n",
    "import librosa as lr\n",
    "import seaborn as sn\n",
    "import pandas as pd\n",
    "import numpy as np\n",
    "import scipy\n",
    "import pydub\n",
    "import os"
   ]
  },
  {
   "cell_type": "code",
   "execution_count": 2,
   "metadata": {},
   "outputs": [],
   "source": [
    "genres = {\n",
    "    'disco': 0,\n",
    "    'country': 1,\n",
    "    'jazz': 2,\n",
    "    'classical': 3,\n",
    "    'blues': 4,\n",
    "    'hiphop': 5,\n",
    "    'metal': 6,\n",
    "    'rock': 7,\n",
    "    'pop': 8,\n",
    "    'reggae': 9\n",
    "}"
   ]
  },
  {
   "cell_type": "code",
   "execution_count": 3,
   "metadata": {},
   "outputs": [],
   "source": [
    "hparams = {\n",
    "    'samplerate': 22050,\n",
    "    'seq_length': 256,\n",
    "    'hop_length': 512,\n",
    "    'fft_window': 2048\n",
    "}"
   ]
  },
  {
   "cell_type": "code",
   "execution_count": 4,
   "metadata": {},
   "outputs": [],
   "source": [
    "def extract_features(filepath, hparams):\n",
    "    \n",
    "    audio_data_array = lr.load(filepath, sr=hparams['samplerate'], mono=True)\n",
    "    \n",
    "    # normalized = lr.util.normalize(audio_data_array[0])\n",
    "    \n",
    "    features = [\n",
    "        \n",
    "        # MFCC Features:\n",
    "        lr.feature.mfcc(\n",
    "            y          = audio_data_array[0],\n",
    "            sr         = hparams['samplerate'],\n",
    "            hop_length = hparams['hop_length'],\n",
    "            n_fft      = hparams['fft_window']\n",
    "        ),\n",
    "\n",
    "        # Chroma STFT:\n",
    "        lr.feature.chroma_stft(\n",
    "            y          = audio_data_array[0],\n",
    "            sr         = hparams['samplerate'],\n",
    "            hop_length = hparams['hop_length'],\n",
    "            n_fft      = hparams['fft_window']\n",
    "        ),\n",
    "        \n",
    "        # Spectral Centroid:\n",
    "        lr.feature.spectral_centroid(\n",
    "            y          = audio_data_array[0],\n",
    "            sr         = hparams['samplerate'],\n",
    "            hop_length = hparams['hop_length'],\n",
    "            n_fft      = hparams['fft_window']\n",
    "        ),\n",
    "        \n",
    "        # Spectral Contrast:\n",
    "        lr.feature.spectral_contrast(\n",
    "            y          = audio_data_array[0],\n",
    "            sr         = hparams['samplerate'],\n",
    "            hop_length = hparams['hop_length'],\n",
    "            n_fft      = hparams['fft_window']\n",
    "        )\n",
    "    ]\n",
    "    \n",
    "    return np.vstack(features)"
   ]
  },
  {
   "cell_type": "code",
   "execution_count": 5,
   "metadata": {},
   "outputs": [],
   "source": [
    "lstm_1_model = tf.keras.models.load_model('LSTM-1/models/model')\n",
    "lstm_2a_model = tf.keras.models.load_model('LSTM-2a/models/model')\n",
    "lstm_2b_model = tf.keras.models.load_model('LSTM-2b/models/model')\n",
    "lstm_3a_model = tf.keras.models.load_model('LSTM-3a/models/model')\n",
    "lstm_3b_model = tf.keras.models.load_model('LSTM-3b/models/model')\n",
    "lstm_3c_model = tf.keras.models.load_model('LSTM-3c/models/model')\n",
    "lstm_3d_model = tf.keras.models.load_model('LSTM-3d/models/model')"
   ]
  },
  {
   "cell_type": "code",
   "execution_count": 6,
   "metadata": {},
   "outputs": [],
   "source": [
    "def lookup(arr):\n",
    "    if arr == [0, 0, 0]:\n",
    "        return 'hiphop'\n",
    "    elif arr == [0, 0, 1]:\n",
    "        return 'metal'\n",
    "    elif arr == [0, 0, 2]:\n",
    "        return 'rock'\n",
    "    elif arr == [0, 1, 0]:\n",
    "        return 'pop'\n",
    "    elif arr == [0, 1, 1]:\n",
    "        return 'reggae'\n",
    "    elif arr == [1, 0, 0]:\n",
    "        return 'disco'\n",
    "    elif arr == [1, 0, 1]:\n",
    "        return 'country'\n",
    "    elif arr == [1, 1, 0]:\n",
    "        return 'jazz'\n",
    "    elif arr == [1, 1, 1]:\n",
    "        return 'classical'\n",
    "    else:\n",
    "        return 'blues'"
   ]
  },
  {
   "cell_type": "code",
   "execution_count": 7,
   "metadata": {},
   "outputs": [],
   "source": [
    "def predict(features, nseg, hparams):\n",
    "    \n",
    "    result = []\n",
    "    \n",
    "    lstm_1_res_arr = []\n",
    "    for i in range(nseg):\n",
    "        lstm_1_res_arr += [np.argmax(\n",
    "            lstm_1_model.predict(\n",
    "                np.moveaxis(\n",
    "                    features[:, i * hparams['seq_length']:(i+1) * hparams['seq_length']], 0, 1\n",
    "                ).reshape(1, 256, 40)\n",
    "            )\n",
    "        )]\n",
    "\n",
    "    lstm_1_res = list(Counter(lstm_1_res_arr))[0]    \n",
    "    result += [lstm_1_res]\n",
    "    \n",
    "    # strong classes:\n",
    "    if lstm_1_res == 0:\n",
    "        \n",
    "        lstm_2a_res_arr = []\n",
    "        for i in range(nseg):\n",
    "            lstm_2a_res_arr += [np.argmax(\n",
    "                lstm_2a_model.predict(\n",
    "                    np.moveaxis(\n",
    "                        features[:, i * hparams['seq_length']:(i+1) * hparams['seq_length']], 0, 1\n",
    "                    ).reshape(1, 256, 40)\n",
    "                )\n",
    "            )]\n",
    "\n",
    "        lstm_2a_res = list(Counter(lstm_2a_res_arr))[0]\n",
    "        \n",
    "        result += [lstm_2a_res]\n",
    "        \n",
    "        # substrong-1:\n",
    "        if lstm_2a_res == 0:\n",
    "            \n",
    "            lstm_3a_res_arr = []\n",
    "            for i in range(nseg):\n",
    "                lstm_3a_res_arr += [np.argmax(\n",
    "                    lstm_3a_model.predict(\n",
    "                        np.moveaxis(\n",
    "                            features[:, i * hparams['seq_length']:(i+1) * hparams['seq_length']], 0, 1\n",
    "                        ).reshape(1, 256, 40)\n",
    "                    )\n",
    "                )]\n",
    "\n",
    "            lstm_3a_res = list(Counter(lstm_3a_res_arr))[0]\n",
    "        \n",
    "            result += [lstm_3a_res]\n",
    "            \n",
    "        # substrong-2:\n",
    "        else:\n",
    "            \n",
    "            lstm_3b_res_arr = []\n",
    "            for i in range(nseg):\n",
    "                lstm_3b_res_arr += [np.argmax(\n",
    "                    lstm_3b_model.predict(\n",
    "                        np.moveaxis(\n",
    "                            features[:, i * hparams['seq_length']:(i+1) * hparams['seq_length']], 0, 1\n",
    "                        ).reshape(1, 256, 40)\n",
    "                    )\n",
    "                )]\n",
    "\n",
    "            lstm_3b_res = list(Counter(lstm_3b_res_arr))[0]\n",
    "\n",
    "            result += [lstm_3b_res]\n",
    "            \n",
    "    # mild classes:\n",
    "    else:\n",
    "        \n",
    "        lstm_2b_res_arr = []\n",
    "        for i in range(nseg):\n",
    "            lstm_2b_res_arr += [np.argmax(\n",
    "                lstm_2b_model.predict(\n",
    "                    np.moveaxis(\n",
    "                        features[:, i * hparams['seq_length']:(i+1) * hparams['seq_length']], 0, 1\n",
    "                    ).reshape(1, 256, 40)\n",
    "                )\n",
    "            )]\n",
    "\n",
    "        lstm_2b_res = list(Counter(lstm_2b_res_arr))[0]\n",
    "        \n",
    "        result += [lstm_2b_res]\n",
    "        \n",
    "        \n",
    "        # submild-1:\n",
    "        if lstm_2b_res == 0:\n",
    "            \n",
    "            lstm_3c_res_arr = []\n",
    "            for i in range(nseg):\n",
    "                lstm_3c_res_arr += [np.argmax(\n",
    "                    lstm_3c_model.predict(\n",
    "                        np.moveaxis(\n",
    "                            features[:, i * hparams['seq_length']:(i+1) * hparams['seq_length']], 0, 1\n",
    "                        ).reshape(1, 256, 40)\n",
    "                    )\n",
    "                )]\n",
    "\n",
    "            lstm_3c_res = list(Counter(lstm_3c_res_arr))[0]            \n",
    "            result += [lstm_3c_res]\n",
    "            \n",
    "        # submild-2:\n",
    "        else:\n",
    "            \n",
    "            lstm_3d_res_arr = []\n",
    "            for i in range(nseg):\n",
    "                lstm_3d_res_arr += [np.argmax(\n",
    "                    lstm_3d_model.predict(\n",
    "                        np.moveaxis(\n",
    "                            features[:, i * hparams['seq_length']:(i+1) * hparams['seq_length']], 0, 1\n",
    "                        ).reshape(1, 256, 40)\n",
    "                    )\n",
    "                )]\n",
    "\n",
    "            lstm_3d_res = list(Counter(lstm_3d_res_arr))[0]            \n",
    "            result += [lstm_3d_res]\n",
    "            \n",
    "    return lookup(list(result))"
   ]
  },
  {
   "cell_type": "markdown",
   "metadata": {},
   "source": [
    "### Accuracy on GTZAN Validation and Test Set:"
   ]
  },
  {
   "cell_type": "code",
   "execution_count": 8,
   "metadata": {},
   "outputs": [],
   "source": [
    "confusion_mat = np.zeros(shape=(10, 10))"
   ]
  },
  {
   "cell_type": "code",
   "execution_count": 9,
   "metadata": {
    "scrolled": false
   },
   "outputs": [
    {
     "name": "stdout",
     "output_type": "stream",
     "text": [
      "===================================\n",
      "Original Genre:  pop\n",
      "===================================\n",
      "Original Genre:  jazz\n",
      "===================================\n",
      "Original Genre:  reggae\n",
      "===================================\n",
      "Original Genre:  disco\n",
      "===================================\n",
      "Original Genre:  blues\n",
      "===================================\n",
      "Original Genre:  hiphop\n",
      "===================================\n",
      "Original Genre:  rock\n",
      "===================================\n",
      "Original Genre:  metal\n",
      "===================================\n",
      "Original Genre:  classical\n",
      "===================================\n",
      "Original Genre:  country\n"
     ]
    }
   ],
   "source": [
    "for genre in os.listdir('dataset/'):\n",
    "    \n",
    "    filelist = os.listdir('./dataset/' + genre)\n",
    "    \n",
    "    print('===================================')\n",
    "    print('Original Genre: ', genre)\n",
    "    for i in range(90, 100, 1):\n",
    "        features = extract_features('dataset/' + genre + '/' + filelist[i], hparams)\n",
    "        nseg = features.shape[1] // 256\n",
    "        result = predict(features, nseg, hparams)\n",
    "        \n",
    "        if result == genre:\n",
    "            confusion_mat[genres[genre]][genres[genre]] += 1\n",
    "        else:\n",
    "            confusion_mat[genres[genre]][genres[result]] += 1"
   ]
  },
  {
   "cell_type": "code",
   "execution_count": 10,
   "metadata": {},
   "outputs": [],
   "source": [
    "confusion_dataframe = pd.DataFrame(\n",
    "    data=confusion_mat,\n",
    "    index=list(genres.keys()),\n",
    "    columns=list(genres.keys())\n",
    ")"
   ]
  },
  {
   "cell_type": "code",
   "execution_count": 12,
   "metadata": {},
   "outputs": [
    {
     "data": {
      "image/png": "[encoded data removed]",
      "text/plain": [
       "<Figure size 576x432 with 2 Axes>"
      ]
     },
     "metadata": {},
     "output_type": "display_data"
    }
   ],
   "source": [
    "fig = plt.figure(figsize=(8, 6))\n",
    "\n",
    "sn.set(font_scale=1.4) # for label size\n",
    "sn.heatmap(confusion_dataframe, annot=True, annot_kws={\"size\": 10})\n",
    "\n",
    "fig.tight_layout()\n",
    "plt.show()"
   ]
  },
  {
   "cell_type": "code",
   "execution_count": 14,
   "metadata": {},
   "outputs": [
    {
     "name": "stdout",
     "output_type": "stream",
     "text": [
      "Accuracy: 54.0 %\n"
     ]
    }
   ],
   "source": [
    "accuracy = 100 * (np.sum(np.diag(confusion_mat)) / np.sum(confusion_mat))\n",
    "print('Accuracy: {} %'.format(accuracy))"
   ]
  },
  {
   "cell_type": "code",
   "execution_count": null,
   "metadata": {},
   "outputs": [],
   "source": []
  }
 ],
 "metadata": {
  "kernelspec": {
   "display_name": "Python 3",
   "language": "python",
   "name": "python3"
  },
  "language_info": {
   "codemirror_mode": {
    "name": "ipython",
    "version": 3
   },
   "file_extension": ".py",
   "mimetype": "text/x-python",
   "name": "python",
   "nbconvert_exporter": "python",
   "pygments_lexer": "ipython3",
   "version": "3.8.5"
  }
 },
 "nbformat": 4,
 "nbformat_minor": 4
}
